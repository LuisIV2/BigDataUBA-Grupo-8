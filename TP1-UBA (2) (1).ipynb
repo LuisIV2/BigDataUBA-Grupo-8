Big Data y Machine Learning (UBA) - 2025
Trabajo Práctico 1: Jugando con APIs y WebScraping
Fecha de entrega:
Viernes 4 de Abril a las 13:00 hs

Modalidad de entrega
Al finalizar el trabajo práctico deben hacer un último commit en su repositorio de GitHub llamado “Entrega final del tp”.
Asegurense de haber creado una carpeta llamada TP1. Este Jupyter Notebook y el correspondiente al TP1 deben estar dentro de esa carpeta.
También deben enviar el link de su repositorio -para que pueda ser clonado y corregido- a mi correo 25RO35480961@campus.economicas.uba.ar. Usar de asunto de email "Big Data - TP 1 - Grupo #" y nombrar el archivo "TP1_Grupo #" donde # es el número de grupo que le fue asignado.
La última versión en el repositorio es la que será evaluada. Por lo que es importante que:
No envien el correo hasta no haber terminado y estar seguros de que han hecho el commit y push a la versión final que quieren entregar.
No hagan nuevos push despues de haber entregado su versión final. Esto generaría confusión acerca de que versión es la que quieren que se les corrija.
En resumen, la carpeta del repositorio debe incluir:
El codigo
Un documento Word (Parte A) donde esten las figuras y una breve descripción de las mismas.
El excel con los links webscrappeados (Parte B)
Parte A
Ejercicio 1 - Jugando con APIs
Usando la API del Banco Mundial link , obtener dos series de indicadores para dos paises a elección en una consulta de búsqueda. Pueden buscar serie de indicadores de su interés.
# Resolver acá
import requests
import pandas as pd
url_arg = "http://api.worldbank.org/v2/country/arg/indicator/SP.POP.TOTL?format=json&date=2010:2020&per_page=1000"
url_bra = "http://api.worldbank.org/v2/country/bra/indicator/SP.POP.TOTL?format=json&date=2010:2020&per_page=1000"

if response_arg := requests.get(url_arg).status_code != 200:
    print("Error al realizar la consulta para Argentina:", response_arg)
else:
    data_arg = requests.get(url_arg).json()[1]
    df_arg = pd.DataFrame()
for indicator in data_arg:
    df_indicator = pd.DataFrame({"Año": [indicator["date"]], "Argentina": [indicator["value"]]})
    df_arg = pd.concat([df_arg, df_indicator])
if response_bra := requests.get(url_bra).status_code != 200:
    print("Error al realizar la consulta para Brasil:", response_bra)
else:
    data_bra = requests.get(url_bra).json()[1]
    df_bra = pd.DataFrame()
    for indicator in data_bra:
        df_indicator = pd.DataFrame({"Año": [indicator["date"]], "Brasil": [indicator["value"]]})
        df_bra = pd.concat([df_bra, df_indicator])
        df = pd.merge(df_arg, df_bra, on="Año")
print("Población de Argentina y Brasil (2010-2020)")
print(df.to_string(index=False))
Población de Argentina y Brasil (2010-2020)
 Año  Argentina    Brasil
2020   45191965 208660842
2019   44973465 207455459
2018   44654882 206107261
2017   44288894 204703445
2016   43900313 203218114
2015   43477012 201675532
2014   43024071 200085127
2013   42582455 198478299
2012   42161721 196876111
2011   41730660 195284734
2010   41288694 193701929
Ejercicio 2 - Repaso de Pandas
Realicen una estadistica descriptiva de ambas series de indicadores comparando los dos países.
import requests
import pandas as pd

url_arg = "http://api.worldbank.org/v2/country/arg/indicator/SP.POP.TOTL?format=json&date=2010:2020&per_page=1000"
url_bra = "http://api.worldbank.org/v2/country/bra/indicator/SP.POP.TOTL?format=json&date=2010:2020&per_page=1000"

if response_arg := requests.get(url_arg).status_code != 200:
    print("Error al realizar la consulta para Argentina:", response_arg)
else:
    data_arg = requests.get(url_arg).json()[1]
    df_arg = pd.DataFrame()
    for indicator in data_arg:
        df_indicator = pd.DataFrame({"Año": [indicator["date"]], "Argentina": [indicator["value"]]})
        df_arg = pd.concat([df_arg, df_indicator])

if response_bra := requests.get(url_bra).status_code != 200:
    print("Error al realizar la consulta para Brasil:", response_bra)
else:
    data_bra = requests.get(url_bra).json()[1]
    df_bra = pd.DataFrame()
    for indicator in data_bra:
        df_indicator = pd.DataFrame({"Año": [indicator["date"]], "Brasil": [indicator["value"]]})
        df_bra = pd.concat([df_bra, df_indicator])

df = pd.merge(df_arg, df_bra, on="Año")
estadistica_descriptiva = df.describe()
print("Estadística descriptiva de la población de Argentina y Brasil")
print(estadistica_descriptiva.apply(lambda x: x.apply(lambda y: format(y, ",.2f"))))
media_arg = df['Argentina'].mean()
media_bra = df['Brasil'].mean()

print("\nMedia de la población de Argentina:", format(media_arg, ",.2f"), "millones de habitantes")
print("Media de la población de Brasil:", format(media_bra, ",.2f"), "millones de habitantes")
mediana_arg = df['Argentina'].median()
mediana_bra = df['Brasil'].median()

print("\nMediana de la población de Argentina:", format(mediana_arg, ",.2f"), "millones de habitantes")
print("Mediana de la población de Brasil:", format(mediana_bra, ",.2f"), "millones de habitantes")

desviacion_estandar_arg = df['Argentina'].std()
desviacion_estandar_bra = df['Brasil'].std()

print("\nDesviación estándar de la población de Argentina:", format(desviacion_estandar_arg, ",.2f"), "millones de habitantes")
print("Desviación estándar de la población de Brasil:", format(desviacion_estandar_bra, ",.2f"), "millones de habitantes")
varianza_arg = df['Argentina'].var()
varianza_bra = df['Brasil'].var()

print("\nVarianza de la población de Argentina:", format(varianza_arg, ",.2f"), "millones de habitantes")
print("Varianza de la población de Brasil:", format(varianza_bra, ",.2f"), "millones de habitantes")
Estadística descriptiva de la población de Argentina y Brasil
           Argentina          Brasil
count          11.00           11.00
mean   43,388,557.45  201,476,986.64
std     1,337,682.40    5,031,533.56
min    41,288,694.00  193,701,929.00
25%    42,372,088.00  197,677,205.00
50%    43,477,012.00  201,675,532.00
75%    44,471,888.00  205,405,353.00
max    45,191,965.00  208,660,842.00

Media de la población de Argentina: 43,388,557.45 millones de habitantes
Media de la población de Brasil: 201,476,986.64 millones de habitantes

Mediana de la población de Argentina: 43,477,012.00 millones de habitantes
Mediana de la población de Brasil: 201,675,532.00 millones de habitantes

Desviación estándar de la población de Argentina: 1,337,682.40 millones de habitantes
Desviación estándar de la población de Brasil: 5,031,533.56 millones de habitantes

Varianza de la población de Argentina: 1,789,394,212,355.47 millones de habitantes
Varianza de la población de Brasil: 25,316,330,007,149.46 millones de habitantes
Ejercicio 3 - Practicando con Matplotlib
Armen dos gráficos distintos usando la librería Matplotlib (repasen Clase 4). Uno programandolo con el estilo pyplot y otro gráfico de estilo orientada a objetos

Ejercicio 4
De la página de noticias del diario La Nación o cualquier diario que les interese, utilicen herramientas de web scraping para obtener los links de las noticias de la portada. Guarden los links obtenidos en un dataframe y expórtenlo a un archivo de excel.

Nota 1: es posible que logren obtener los links a las noticias sin el dominio: "https://www.lanacion.com.ar/". De ser así, concatenen el dominio a la ruta del link obtenido, tal que se obtenga un link al que se pueda acceder. Es decir, que las cadenas de caracteres finales tendrán la forma: https://www.lanacion.com.ar/*texto_obtenido*)

Nota 2: junto con su entrega, adjunten una captura de la página de noticias al momento de correr su código. Eso servirá al momento de la corrección para verificar que los links obtenidos hacen referencia a las noticias de ese día y hora.

pip install requests beautifulsoup4 pandas openpyxl

Requirement already satisfied: requests in c:\users\choco\anaconda3\lib\site-packages (2.32.3)
Requirement already satisfied: beautifulsoup4 in c:\users\choco\anaconda3\lib\site-packages (4.12.3)
Requirement already satisfied: pandas in c:\users\choco\anaconda3\lib\site-packages (2.2.3)
Collecting openpyxl
  Downloading openpyxl-3.1.5-py2.py3-none-any.whl.metadata (2.5 kB)
Requirement already satisfied: charset-normalizer<4,>=2 in c:\users\choco\anaconda3\lib\site-packages (from requests) (3.3.2)
Requirement already satisfied: idna<4,>=2.5 in c:\users\choco\anaconda3\lib\site-packages (from requests) (3.7)
Requirement already satisfied: urllib3<3,>=1.21.1 in c:\users\choco\anaconda3\lib\site-packages (from requests) (2.2.3)
Requirement already satisfied: certifi>=2017.4.17 in c:\users\choco\anaconda3\lib\site-packages (from requests) (2025.1.31)
Requirement already satisfied: soupsieve>1.2 in c:\users\choco\anaconda3\lib\site-packages (from beautifulsoup4) (2.5)
Requirement already satisfied: numpy>=1.26.0 in c:\users\choco\anaconda3\lib\site-packages (from pandas) (2.2.4)
Requirement already satisfied: python-dateutil>=2.8.2 in c:\users\choco\anaconda3\lib\site-packages (from pandas) (2.9.0.post0)
Requirement already satisfied: pytz>=2020.1 in c:\users\choco\anaconda3\lib\site-packages (from pandas) (2024.1)
Requirement already satisfied: tzdata>=2022.7 in c:\users\choco\anaconda3\lib\site-packages (from pandas) (2025.2)
Collecting et-xmlfile (from openpyxl)
  Downloading et_xmlfile-2.0.0-py3-none-any.whl.metadata (2.7 kB)
Requirement already satisfied: six>=1.5 in c:\users\choco\anaconda3\lib\site-packages (from python-dateutil>=2.8.2->pandas) (1.16.0)
Downloading openpyxl-3.1.5-py2.py3-none-any.whl (250 kB)
Downloading et_xmlfile-2.0.0-py3-none-any.whl (18 kB)
Installing collected packages: et-xmlfile, openpyxl
Successfully installed et-xmlfile-2.0.0 openpyxl-3.1.5
Note: you may need to restart the kernel to use updated packages.
import requests
from bs4 import BeautifulSoup
import pandas as pd

# URL de la portada de La Nación
URL = "https://www.lanacion.com.ar/"

# Realizar la solicitud HTTP
response = requests.get(URL)
if response.status_code == 200:
    # Parsear el contenido HTML
    soup = BeautifulSoup(response.text, 'html.parser')
    
    # Encontrar todos los enlaces de noticias
    links = []
    for a_tag in soup.find_all('a', href=True):
        href = a_tag['href']
        if '/nota/' in href or '/politica/' in href or '/economia/' in href:  
            if not href.startswith("http"):
                href = "https://www.lanacion.com.ar" + href  
            links.append(href)
    
    # Guardar en un DataFrame y exportar a Excel
    df = pd.DataFrame(links, columns=["Links"])
    df.to_excel("links_noticias_lanacion.xlsx", index=False)
    print("✅ Los links de noticias se han guardado en 'links_noticias_lanacion.xlsx'.")
else:
    print("❌ No se pudo obtener la página. Verifica la URL o tu conexión a internet.")
✅ Los links de noticias se han guardado en 'links_noticias_lanacion.xlsx'.

