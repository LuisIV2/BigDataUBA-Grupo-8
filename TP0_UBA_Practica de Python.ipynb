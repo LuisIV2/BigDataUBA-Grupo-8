{
 "cells": [
  {
   "cell_type": "code",
   "execution_count": null,
   "metadata": {
    "collapsed": true,
    "id": "Dh8MkXaG-c9Y",
    "jupyter": {
     "outputs_hidden": true
    }
   },
   "outputs": [],
   "source": [
    "# Big Data y Machine Learning (UBA) - 2025\n",
    "\n",
    "## Trabajo Práctico 0 (Opcional) - Práctica de Programación en Python\n"
   ]
  },
  {
   "cell_type": "markdown",
   "metadata": {
    "id": "RhBlm6mZ-c9e"
   },
   "source": [
    "### Reglas de formato y presentación\n",
    "- El trabajo debe estar debidamente documentado comentado (utilizando #) para que tanto los docentes como sus compañeros puedan comprender el código fácilmente.\n",
    "\n",
    "- El mismo debe ser completado en este Jupyter Notebook y entregado como tal, es decir en un archivo .ipynb\n"
   ]
  },
  {
   "cell_type": "markdown",
   "metadata": {
    "id": "ZEjGaa4U-c9g"
   },
   "source": [
    "### Fecha de relización:\n",
    "Viernes 18 de Marzo a las 13:00 hs"
   ]
  },
  {
   "cell_type": "markdown",
   "metadata": {
    "id": "ZXbrPraa-c9i"
   },
   "source": [
    "#### Ejercicio 1\n",
    "Este ejercicio simplemente busca repasar lo que aprendimos sobre definición de variables. Definir dos variables con un nombre combinado (al menos dos palabras), una que se pueda crear y otra que tenga un nombre inaceptable (genera error). Explicar por qué ocurre el error."
   ]
  },
  {
   "cell_type": "code",
   "execution_count": 5,
   "metadata": {},
   "outputs": [],
   "source": [
    "defrot = \"hola como esatas\""
   ]
  },
  {
   "cell_type": "code",
   "execution_count": 7,
   "metadata": {
    "scrolled": true
   },
   "outputs": [
    {
     "data": {
      "text/plain": [
       "'hola como esatas'"
      ]
     },
     "execution_count": 7,
     "metadata": {},
     "output_type": "execute_result"
    }
   ],
   "source": [
    "defrot"
   ]
  },
  {
   "cell_type": "code",
   "execution_count": 8,
   "metadata": {
    "scrolled": true
   },
   "outputs": [
    {
     "ename": "SyntaxError",
     "evalue": "invalid decimal literal (2001267304.py, line 1)",
     "output_type": "error",
     "traceback": [
      "\u001b[1;36m  Cell \u001b[1;32mIn[8], line 1\u001b[1;36m\u001b[0m\n\u001b[1;33m    1defront = \"hola como estas\"\u001b[0m\n\u001b[1;37m    ^\u001b[0m\n\u001b[1;31mSyntaxError\u001b[0m\u001b[1;31m:\u001b[0m invalid decimal literal\n"
     ]
    }
   ],
   "source": [
    "1defront = \"hola como estas\""
   ]
  },
  {
   "cell_type": "markdown",
   "metadata": {},
   "source": [
    "#### Ejercicio 2\n",
    "Importar módulos. Usando el módulo math impriman la tangente de 1. ¿Cuál es el resultado?\n",
    "Hagan este cálculo de dos formas: primero importando el módulo math y usando la función correspondiente y luego solo importando la función específica que precisan para el cálculo."
   ]
  },
  {
   "cell_type": "code",
   "execution_count": 11,
   "metadata": {},
   "outputs": [],
   "source": [
    "resultado=math.tan(1)"
   ]
  },
  {
   "cell_type": "code",
   "execution_count": 12,
   "metadata": {},
   "outputs": [
    {
     "name": "stdout",
     "output_type": "stream",
     "text": [
      "1.5574077246549023\n"
     ]
    }
   ],
   "source": [
    "print(resultado)"
   ]
  },
  {
   "cell_type": "markdown",
   "metadata": {
    "id": "GlNh0fyv-c9l"
   },
   "source": [
    "#### Ejercicio 3 \n",
    "Este ejercicio trata sobre lograr el intercambio de valores entre dos variables utilizando una variable temporal para hacerlo. Las variables temporales y la sustitución de valores termina siendo útil en algunos loops. Los pasos a seguir son: (a) definir variables A y B (cuyos valores buscaremos invertir); (b) definir una variable temporal que resguarde el valor de B; (c) sustitución (asignar B igual a A y también A igual al valor original de B); (d) imprimir valores para verificar."
   ]
  },
  {
   "cell_type": "code",
   "execution_count": null,
   "metadata": {
    "id": "uWalSYFC-c9m"
   },
   "outputs": [],
   "source": [
    "# a) Definir variables A y B, \n",
    "a = 1\n",
    "b = 2\n",
    "\n",
    "# b) Definir variable temporal \"tmp\" igual a B (la variable, no el valor)\n",
    "\n",
    "\n",
    "# c) Ahora sustituir variables: variable B igual a variable A (la variable, no el\n",
    "# valor) y viceversa.\n",
    "\n",
    "\n",
    "# d) Verifiquemos resultados: imprimir variables A y B"
   ]
  },
  {
   "cell_type": "code",
   "execution_count": 13,
   "metadata": {
    "id": "_oE5sG0c-c9q"
   },
   "outputs": [],
   "source": [
    "A=4\n",
    "B=8"
   ]
  },
  {
   "cell_type": "code",
   "execution_count": 15,
   "metadata": {},
   "outputs": [],
   "source": [
    "temp=B"
   ]
  },
  {
   "cell_type": "code",
   "execution_count": null,
   "metadata": {},
   "outputs": [],
   "source": [
    "B=A"
   ]
  },
  {
   "cell_type": "code",
   "execution_count": null,
   "metadata": {},
   "outputs": [],
   "source": [
    "A=temp"
   ]
  },
  {
   "cell_type": "code",
   "execution_count": 18,
   "metadata": {},
   "outputs": [
    {
     "name": "stdout",
     "output_type": "stream",
     "text": [
      "valor de A despues del intercambio: 4\n",
      "valor de B despues del intercambio: 8\n"
     ]
    }
   ],
   "source": [
    "print(\"valor de A despues del intercambio:\",A)\n",
    "print(\"valor de B despues del intercambio:\",B)"
   ]
  },
  {
   "cell_type": "markdown",
   "metadata": {
    "id": "wXhAaRyN-c9p"
   },
   "source": [
    "#### Ejercicio 4\n",
    "En este ejercicio se busca poner en práctica el uso de range() en un for loop. \n",
    "\n",
    "Construir un for loop usando un range(). El range debe ser entre los valores que quieran (con una diferencia mínima de 15 entre start y stop), en incrementos de 3 unidades. Dentro del loop, implementar una sentencia condicional que imprima una leyenda indicando si el input es par o impar."
   ]
  },
  {
   "cell_type": "code",
   "execution_count": 76,
   "metadata": {},
   "outputs": [
    {
     "name": "stdout",
     "output_type": "stream",
     "text": [
      "$ 9 es impar\n",
      "$ 14 es impar\n",
      "$ 19 es impar\n",
      "# 24 es par\n",
      "$ 29 es impar\n",
      "$ 34 es impar\n",
      "$ 39 es impar\n",
      "# 44 es par\n",
      "$ 49 es impar\n",
      "$ 54 es impar\n"
     ]
    }
   ],
   "source": [
    "for num in range(9, 55, 5):  \n",
    "   if num % 4 == 0:\n",
    "    print(f\"# {num} es par\")\n",
    "   else:    \n",
    "    print(f\"$ {num} es impar\") \n"
   ]
  },
  {
   "cell_type": "markdown",
   "metadata": {
    "id": "h3g5bXUB-c9u"
   },
   "source": [
    "#### Ejercicio 5\n",
    "Para practicar el uso de condiciones lógicas y la definición de funciones, construir una función con una sentencia condicional que verifique si un año es bisiesto o no. Para que un año sea bisiesto debe cumplir una de dos condiciones:\n",
    "\n",
    "(a) que sea divisible por 400; o\n",
    "\n",
    "(b) que sea divisible por 4 y no sea divisible por 100\n",
    "\n",
    "Notar que son dos condiciones, donde la segunda condición tiene dos componentes. Prueben la función con 3 valores para verificar que funcione."
   ]
  },
  {
   "cell_type": "code",
   "execution_count": 1,
   "metadata": {},
   "outputs": [
    {
     "name": "stdout",
     "output_type": "stream",
     "text": [
      " B El año 2004 es bisiesto.\n",
      " X El año 1974 NO es bisisto.\n",
      " B El año 2000 es bisiesto.\n",
      " X El año 2025 NO es bisisto.\n"
     ]
    }
   ],
   "source": [
    "def es_bisisto(anio):\n",
    "    if(anio % 400 == 0) or (anio % 4 == 0 and 100 != 0):\n",
    "        return f\" B El año {anio} es bisiesto.\"\n",
    "    else: \n",
    "        return f\" X El año {anio} NO es bisisto.\"\n",
    "print(es_bisisto(2004))\n",
    "print(es_bisisto(1974))\n",
    "print(es_bisisto(2000))\n",
    "print(es_bisisto(2025))"
   ]
  },
  {
   "cell_type": "markdown",
   "metadata": {
    "collapsed": true,
    "id": "P3a7bJkd-c9w",
    "jupyter": {
     "outputs_hidden": true
    }
   },
   "source": [
    "#### Ejercicio 6 \n",
    "Pongamos en práctica identificar el type() de cada variable. A continuación tenemos una lista con elementos de diferentes tipos. Construyan un for loop que itere sobre la lista e imprima un cartel indicando el tipo de dato u objeto que hay en cada caso."
   ]
  },
  {
   "cell_type": "code",
   "execution_count": null,
   "metadata": {
    "id": "jDf4d_Wr-c9w"
   },
   "outputs": [],
   "source": [
    "mi_lista = [10, 34.5, 99999, 'abc', [1,2,3], ('ARG', 1810), {'pob': 45}, True]"
   ]
  },
  {
   "cell_type": "code",
   "execution_count": 104,
   "metadata": {
    "id": "SAJgEiNEFQAS",
    "scrolled": true
   },
   "outputs": [
    {
     "name": "stdout",
     "output_type": "stream",
     "text": [
      " B mi elemento: 10 es tipo int\n",
      " B mi elemento: 34.5 es tipo float\n",
      " B mi elemento: 99999 es tipo int\n",
      " B mi elemento: abc es tipo str\n",
      " B mi elemento: [1, 2, 3] es tipo list\n",
      " B mi elemento: ('ARG', 1810) es tipo tuple\n",
      " B mi elemento: {'pob': 45} es tipo dict\n",
      " B mi elemento: True es tipo bool\n"
     ]
    }
   ],
   "source": [
    "# Resolver acá\n",
    "mi_lista = [10, 34.5, 99999, 'abc', [1,2,3], ('ARG', 1810), {'pob': 45}, True]\n",
    "for elemento in mi_lista:\n",
    "    print(f\" B mi elemento: {elemento} es tipo {type(elemento).__name__}\")"
   ]
  },
  {
   "cell_type": "markdown",
   "metadata": {
    "id": "y1lncitl-c9x"
   },
   "source": [
    "#### Ejercicio 7\n",
    "Ahora definan ustedes una nueva lista, en la que los primeros cuatro elementos sean palabras (strings), el quinto elemento no sea string, y el sexto sea string. Construyan un for loop que corra por la lista y que imprima la palabra y la longitud de la misma. Que el loop contenga una sentencia condicional que imprima un cartel \"Elemento no es un string: < el elemento > | < class del elemento >\" para los casos dónde el elemento evaluado no sea string."
   ]
  },
  {
   "cell_type": "code",
   "execution_count": 153,
   "metadata": {
    "id": "bFOk9Os0-c9x"
   },
   "outputs": [
    {
     "name": "stdout",
     "output_type": "stream",
     "text": [
      " U  'Messi' usa la  5 .\n",
      " U  'Maradona' usa la  8 .\n",
      " U  'Zidane' usa la  6 .\n",
      " U  'Maldini' usa la  7 .\n",
      " X Elemnto no es string: 7 | tipo: int\n",
      " U  'Ney' usa la  3 .\n"
     ]
    }
   ],
   "source": [
    "# Resolver acá\n",
    "mi_lista = [\"Messi\", \"Maradona\", \"Zidane\", \"Maldini\", 7, \"Ney\"]\n",
    "\n",
    "for elemento in mi_lista:\n",
    "    \n",
    "    if isinstance(elemento, str):\n",
    "        print(f\" U  '{elemento}' usa la  {len(elemento)} .\")\n",
    "    else:\n",
    "       print(f\" X Elemnto no es string: {elemento} | tipo: {type(elemento).__name__}\")\n"
   ]
  },
  {
   "cell_type": "markdown",
   "metadata": {},
   "source": [
    "#### Ejercicio 8"
   ]
  },
  {
   "cell_type": "markdown",
   "metadata": {},
   "source": [
    "Construyan una función llamada 'suma' que tome una cantidad variable de parámetros y devuelva el resultado de la suma."
   ]
  },
  {
   "cell_type": "code",
   "execution_count": 183,
   "metadata": {},
   "outputs": [
    {
     "name": "stdout",
     "output_type": "stream",
     "text": [
      "39\n",
      "48\n",
      "65\n"
     ]
    }
   ],
   "source": [
    "# Resolver acá\n",
    "def suma(*numeros):\n",
    "    return sum(numeros)\n",
    "print(suma(9, 12, 18))\n",
    "print(suma(20, 28))\n",
    "print(suma(30, 35))\n"
   ]
  },
  {
   "cell_type": "markdown",
   "metadata": {
    "id": "PUpxDz72-c9x"
   },
   "source": [
    "#### Ejercicio 9\n",
    "Argentina tiene una representación legislativa proporcional en la cual la cantidad de diputados se debería ajustar según el tamaño de población de cada provincia. Otra característica de la representación legislativa del país es que hay una cantidad mínima de diputados por provincia (5). Esto genera un desbalance en la cantidad de ciudadanos por cada representante en el Congreso entre provincias.\n",
    "\n",
    "A continuación preparamos algunos ejemplos, dividiendo la población de cada provincia (según estimación para el 2022) por la cantidad de representantes en el Congreso para esa misma jurisdicción. También armamos el equivalente para el total país y una lista con los valores provinciales.\n",
    "\n",
    "En este ejercicio les pedimos que construyan un for loop que itere sobre el diccionario definido y compare cada valor provincial contra el valor de proporcionalidad directa (la variable argentina). El loop debe imprimir una leyenda que indique si la provincia está sobrerepresentada, subrepresentada o con representación proporcional. Además, queremos que el mismo loop compare los valores de las provincias sobrerepresentadas y que guarde el valor de la provincia con mayor sobrerepresentación. Luego del loop impriman este valor así podemos ver que haya funcionado.\n",
    "\n",
    "Fuente para población: https://es.wikipedia.org/wiki/Demograf%C3%ADa_de_Argentina\n",
    "\n",
    "Fuente para representantes: https://es.wikipedia.org/wiki/C%C3%A1mara_de_Diputados_de_la_Naci%C3%B3n_Argentina"
   ]
  },
  {
   "cell_type": "code",
   "execution_count": 186,
   "metadata": {
    "id": "hd8Z5AHs-c9y"
   },
   "outputs": [],
   "source": [
    "# Valor de referencia: proporcionalidad\n",
    "argentina = 46044703 / 257\n",
    "\n",
    "# Creamos variables para una selección de jurisdicciones\n",
    "cordoba = 3978984 / 18\n",
    "santa_fe = 3556522 / 19\n",
    "mendoza = 2014533 / 10\n",
    "buenos_aires = 17569053 / 70\n",
    "entre_rios =  1426426 / 9\n",
    "santa_cruz = 333473 / 5\n",
    "formosa = 606041 / 5\n",
    "\n",
    "# Definimos el diccionario para iterar\n",
    "dict_provincias = {\n",
    "    \"Córdoba\": cordoba,\n",
    "    \"Santa Fe\": santa_fe,\n",
    "    \"Mendoza\": mendoza,\n",
    "    \"Buenos Aires\": buenos_aires,\n",
    "    \"Entre Ríos\": entre_rios,\n",
    "    \"Santa Cruz\": santa_cruz,\n",
    "    \"Formosa\": formosa\n",
    "}"
   ]
  },
  {
   "cell_type": "code",
   "execution_count": 278,
   "metadata": {
    "id": "fsEHnxiY-c9y",
    "scrolled": true
   },
   "outputs": [
    {
     "name": "stdout",
     "output_type": "stream",
     "text": [
      "A Córdoba está SUBREPRESENTADA: 221055 \n",
      "A Santa Fe está SUBREPRESENTADA: 187185 \n",
      "A Mendoza está SUBREPRESENTADA: 201453 \n",
      "A Buenos Aires está SUBREPRESENTADA: 250986 \n",
      "B Entre Ríos está SOBREREPRESENTADA: 158492 \n",
      "C Entre Ríos tiene SOBRREPRESENTACIÓN PROPORCIONAL: 158492 \n",
      "\n",
      " D ptovincia con mayor sobresentacion:\n",
      "None (121208\n",
      "B Santa Cruz está SOBREREPRESENTADA: 66695 \n",
      "C Santa Cruz tiene SOBRREPRESENTACIÓN PROPORCIONAL: 66695 \n",
      "\n",
      " D ptovincia con mayor sobresentacion:\n",
      "None (121208\n",
      "B Formosa está SOBREREPRESENTADA: 121208 \n",
      "C Formosa tiene SOBRREPRESENTACIÓN PROPORCIONAL: 121208 \n",
      "\n",
      " D ptovincia con mayor sobresentacion:\n",
      "None (121208\n"
     ]
    }
   ],
   "source": [
    "# Resolver acá\n",
    "# Valor de referencia: proporcionalidad\n",
    "argentina = 46044703 / 257\n",
    "\n",
    "# Creamos variables para una selección de jurisdicciones\n",
    "cordoba = 3978984 / 18\n",
    "santa_fe = 3556522 / 19\n",
    "mendoza = 2014533 / 10\n",
    "buenos_aires = 17569053 / 70\n",
    "entre_rios =  1426426 / 9\n",
    "santa_cruz = 333473 / 5\n",
    "formosa = 606041 / 5\n",
    "\n",
    "# Definimos el diccionario para iterar\n",
    "dict_provincias = {\n",
    "    \"Córdoba\": cordoba,\n",
    "    \"Santa Fe\": santa_fe,\n",
    "    \"Mendoza\": mendoza,\n",
    "    \"Buenos Aires\": buenos_aires,\n",
    "    \"Entre Ríos\": entre_rios,\n",
    "    \"Santa Cruz\": santa_cruz,\n",
    "    \"Formosa\": formosa\n",
    "}\n",
    "\n",
    "provincia_max = None\n",
    "valor_pro = float('inf')\n",
    "\n",
    "for provincia, valor in dict_provincias.items():\n",
    "    if valor > argentina:\n",
    "        print(f\"A {provincia} está SUBREPRESENTADA: {valor:.0f} \")\n",
    "    elif valor < argentina:\n",
    "        print(f\"B {provincia} está SOBREREPRESENTADA: {valor:.0f} \")\n",
    "        if valor > valor_pro: \n",
    "            provincia_max = provincia\n",
    "            valor_provincia = valor\n",
    "        else:\n",
    "            print(f\"C {provincia} tiene SOBRREPRESENTACIÓN PROPORCIONAL: {valor:.0f} \")\n",
    "            print(\"\\n D ptovincia con mayor sobresentacion:\")\n",
    "            print(f\"{provincia_max} ({valor_provincia:.0f}\")\n",
    "\n",
    "        "
   ]
  },
  {
   "cell_type": "markdown",
   "metadata": {
    "id": "GokZe5tV-c9z"
   },
   "source": [
    "#### Ejercicio 10\n",
    "Si buscáramos minimizar la subrepresentación de la provincia de Buenos Aires, ¿cuántos representantes debería tener según el Censo 2022? Usemos el mismo criterio de sub/sobrerepresentacion que en el ejercicio anterior: población sobre cantidad de representantes.\n",
    "\n",
    "Para responder esta pregunta construyan un while loop que incremente de a uno la cantidad de representantes de la Provincia hasta minimizar la subrepresentación. En cada iteración impriman un cartel que diga: \"Se agregó un representante, el total ahora es X\" dónde X es el número de representantes simulado."
   ]
  },
  {
   "cell_type": "code",
   "execution_count": null,
   "metadata": {},
   "outputs": [],
   "source": [
    "# Resolver acá\n",
    "\n",
    "# Datos de referencia\n",
    "representantes_pba = 70  \n",
    "poblacion2010_pba = 17594428  \n",
    "argentina = 46044703 / 257  \n",
    "\n",
    "# Calculamos la representación actual\n",
    "ciudadanos_diputados = poblacion2010_pba / representantes_pba\n",
    "\n",
    "while ciudadanos_diputados > argentina:\n",
    "    representantes_pba += 1  # Agregamos un diputado\n",
    "    ciudadanos_diputados = poblacion2010_pba / representantes_pba \n",
    "    print(f\"Se agregó un representante, el total ahora es {representantes_pba}\")\n",
    "\n",
    "\n",
    "print(\"\\n🔹 Representación corregida para Buenos Aires:\")\n",
    "print(f\"👉 Con {representantes_pba} diputados, la provincia tiene {ciudadanos_diputados:.0f} \")"



# Imprimimos la provincia con mayor sobrerepresentación
print("\n🏆 Provincia con mayor sobrerepresentación:")
print(f"🔹 {provincia_max_sobrerep} ({valor_max_sobrerep:.0f} ciudadanos/diputado)")
   ]
  },
  {
   "cell_type": "code",
   "execution_count": null,
   "metadata": {},
   "outputs": [],
   "source": [
    "pd.red_exelc('ejmplo.xlsx')"
   ]
  },
  {
   "cell_type": "code",
   "execution_count": null,
   "metadata": {},
   "outputs": [],
   "source": []
  }
 ],
 "metadata": {
  "anaconda-cloud": {},
  "colab": {
   "name": "TP1 - Parte 1.ipynb",
   "provenance": []
  },
  "kernelspec": {
   "display_name": "Python 3 (ipykernel)",
   "language": "python",
   "name": "python3"
  },
  "language_info": {
   "codemirror_mode": {
    "name": "ipython",
    "version": 3
   },
   "file_extension": ".py",
   "mimetype": "text/x-python",
   "name": "python",
   "nbconvert_exporter": "python",
   "pygments_lexer": "ipython3",
   "version": "3.12.7"
  }
 },
 "nbformat": 4,
 "nbformat_minor": 4
}
