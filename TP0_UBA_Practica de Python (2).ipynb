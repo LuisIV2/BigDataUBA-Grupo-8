{
 "cells": [
  {
   "cell_type": "markdown",
   "metadata": {
    "collapsed": true,
    "id": "Dh8MkXaG-c9Y",
    "jupyter": {
     "outputs_hidden": true
    }
   },
   "source": [
    "# Big Data y Machine Learning (UBA) - 2025\n",
    "\n",
    "## Trabajo Práctico 0 (Opcional) - Práctica de Programación en Python\n"
   ]
  },
  {
   "cell_type": "markdown",
   "metadata": {
    "id": "RhBlm6mZ-c9e"
   },
   "source": [
    "### Reglas de formato y presentación\n",
    "- El trabajo debe estar debidamente documentado comentado (utilizando #) para que tanto los docentes como sus compañeros puedan comprender el código fácilmente.\n",
    "\n",
    "- El mismo debe ser completado en este Jupyter Notebook y entregado como tal, es decir en un archivo .ipynb\n"
   ]
  },
  {
   "cell_type": "markdown",
   "metadata": {
    "id": "ZEjGaa4U-c9g"
   },
   "source": [
    "### Fecha de relización:\n",
    "Viernes 18 de Marzo a las 13:00 hs"
   ]
  },
  {
   "cell_type": "markdown",
   "metadata": {
    "id": "ZXbrPraa-c9i"
   },
   "source": [
    "#### Ejercicio 1\n",
    "Este ejercicio simplemente busca repasar lo que aprendimos sobre definición de variables. Definir dos variables con un nombre combinado (al menos dos palabras), una que se pueda crear y otra que tenga un nombre inaceptable (genera error). Explicar por qué ocurre el error."
   ]
  },
  {
   "cell_type": "code",
   "execution_count": 7,
   "metadata": {
    "id": "mb7PkXfN-c9j"
   },
   "outputs": [
    {
     "ename": "SyntaxError",
     "evalue": "invalid syntax (1082566117.py, line 6)",
     "output_type": "error",
     "traceback": [
      "\u001b[1;36m  Cell \u001b[1;32mIn[7], line 6\u001b[1;36m\u001b[0m\n\u001b[1;33m    nombre completo = \"Ana Gómez\"\u001b[0m\n\u001b[1;37m           ^\u001b[0m\n\u001b[1;31mSyntaxError\u001b[0m\u001b[1;31m:\u001b[0m invalid syntax\n"
     ]
    }
 Cell In[8], line 1
    1defront = "hola como estas"
    ^
SyntaxError: invalid decimal literal
   ],
   "source": [
    "# Caso A\n",
    "nombre_completo = \"Juan_Pérez\"\n",
    "# Explicación:Se usa el guion bajo _ para separar las palabras, lo cual es válido en Python. Python permite letras, números y guiones bajos en los nombres de variables, siempre que no comiencen con un número.\n",
    "\n",
    "# Caso B (acá debería saltar un error)\n",
    "nombre completo = \"Ana Gómez\"\n",
    "# Explicación del error:Se produce un SyntaxError porque Python no permite espacios en los nombres de variables. Python interpretará \"nombre\" como una variable y luego verá \"completo\" como algo separado, lo que genera el error."
   ]
  },
  {
   "cell_type": "markdown",
   "metadata": {},
   "source": [
    "#### Ejercicio 2\n",
    "Importar módulos. Usando el módulo math impriman la tangente de 1. ¿Cuál es el resultado?\n",
    "Hagan este cálculo de dos formas: primero importando el módulo math y usando la función correspondiente y luego solo importando la función específica que precisan para el cálculo."
   ]
  },
  {
   "cell_type": "code",
   "execution_count": 12,
   "metadata": {},
   "outputs": [
    {
     "name": "stdout",
     "output_type": "stream",
     "text": [
      "1.5574077246549023\n",
      "1.5574077246549023\n"
     ]
    }
   ],
   "source": [
    "# Caso A\n",
    "import math\n",
    "\n",
    "# Calcular la tangente de 1 radian usando math\n",
    "resultado = math.tan(1)\n",
    "print(resultado)\n",
    "\n",
    "\n",
    "# Caso B\n",
    "from math import tan\n",
    "\n",
    "# Calcular la tangente de 1 radian directamente\n",
    "resultado = tan(1)\n",
    "print(resultado)"
   ]
  },
  {
   "cell_type": "markdown",
   "metadata": {
    "id": "GlNh0fyv-c9l"
   },
   "source": [
    "#### Ejercicio 3 \n",
    "Este ejercicio trata sobre lograr el intercambio de valores entre dos variables utilizando una variable temporal para hacerlo. Las variables temporales y la sustitución de valores termina siendo útil en algunos loops. Los pasos a seguir son: (a) definir variables A y B (cuyos valores buscaremos invertir); (b) definir una variable temporal que resguarde el valor de B; (c) sustitución (asignar B igual a A y también A igual al valor original de B); (d) imprimir valores para verificar."
   ]
  },
  {
   "cell_type": "code",
   "execution_count": 15,
   "metadata": {
    "id": "uWalSYFC-c9m"
   },
   "outputs": [
    {
     "name": "stdout",
     "output_type": "stream",
     "text": [
      "Valor de A después del intercambio: 10\n",
      "Valor de B después del intercambio: 5\n"
     ]
    }
   ],
   "source": [
    "# a) Definir variables A y B, \n",
    "a = 1\n",
    "b = 2\n",
    "\n",
    "# b) Definir variable temporal \"tmp\" igual a B (la variable, no el valor)\n",
    "\n",
    "\n",
    "# c) Ahora sustituir variables: variable B igual a variable A (la variable, no el\n",
    "# valor) y viceversa.\n",
    "\n",
    "\n",
    "# d) Verifiquemos resultados: imprimir variables A y B\n",
    "\n",
    "# (a) Definir variables A y B\n",
    "A = 5\n",
    "B = 10\n",
    "\n",
    "# (b) Definir una variable temporal que resguarde el valor de B\n",
    "temp = B\n",
    "\n",
    "# (c) Intercambiar valores\n",
    "B = A  # Ahora B toma el valor de A\n",
    "A = temp  # A toma el valor original de B (guardado en temp)\n",
    "\n",
    "# (d) Imprimir valores para verificar el intercambio\n",
    "print(\"Valor de A después del intercambio:\", A)\n",
    "print(\"Valor de B después del intercambio:\", B)\n"
   ]
  },
  {
   "cell_type": "markdown",
   "metadata": {
    "id": "wXhAaRyN-c9p"
   },
   "source": [
    "#### Ejercicio 4\n",
    "En este ejercicio se busca poner en práctica el uso de range() en un for loop. \n",
    "\n",
    "Construir un for loop usando un range(). El range debe ser entre los valores que quieran (con una diferencia mínima de 15 entre start y stop), en incrementos de 3 unidades. Dentro del loop, implementar una sentencia condicional que imprima una leyenda indicando si el input es par o impar."
   ]
  },
  {
   "cell_type": "code",
   "execution_count": 17,
   "metadata": {
    "id": "_oE5sG0c-c9q"
   },
   "outputs": [
    {
     "name": "stdout",
     "output_type": "stream",
     "text": [
      "🔵 10 es par\n",
      "🔴 13 es impar\n",
      "🔵 16 es par\n",
      "🔴 19 es impar\n",
      "🔵 22 es par\n",
      "🔴 25 es impar\n",
      "🔵 28 es par\n",
      "🔴 31 es impar\n",
      "🔵 34 es par\n",
      "🔴 37 es impar\n"
     ]
    }
   ],
   "source": [
    "# Resolver acá\n",
    "# (a) Usar range() con una diferencia mínima de 15 y paso de 3\n",
    "for num in range(10, 40, 3):  # Empieza en 10, termina en 39, incrementa de 3 en 3\n",
    "    # (b) Sentencia condicional para verificar si es par o impar\n",
    "    if num % 2 == 0:\n",
    "        print(f\"🔵 {num} es par\")\n",
    "    else:\n",
    "        print(f\"🔴 {num} es impar\")\n"
   ]
  },
  {
   "cell_type": "markdown",
   "metadata": {
    "id": "h3g5bXUB-c9u"
   },
   "source": [
    "#### Ejercicio 5\n",
    "Para practicar el uso de condiciones lógicas y la definición de funciones, construir una función con una sentencia condicional que verifique si un año es bisiesto o no. Para que un año sea bisiesto debe cumplir una de dos condiciones:\n",
    "\n",
    "(a) que sea divisible por 400; o\n",
    "\n",
    "(b) que sea divisible por 4 y no sea divisible por 100\n",
    "\n",
    "Notar que son dos condiciones, donde la segunda condición tiene dos componentes. Prueben la función con 3 valores para verificar que funcione."
   ]
  },
  {
   "cell_type": "code",
   "execution_count": 19,
   "metadata": {
    "id": "7_MnILdz-c9v"
   },
   "outputs": [
    {
     "name": "stdout",
     "output_type": "stream",
     "text": [
      "✅ El año 2024 es bisiesto.\n",
      "❌ El año 1900 NO es bisiesto.\n",
      "✅ El año 2000 es bisiesto.\n"
     ]
    }
   ],
   "source": [
    "def es_bisiesto(anio):\n",
    "    \"\"\"\n",
    "    Función que verifica si un año es bisiesto.\n",
    "    Un año es bisiesto si:\n",
    "    (a) Es divisible por 400, o\n",
    "    (b) Es divisible por 4 pero NO por 100.\n",
    "    \"\"\"\n",
    "    if (anio % 400 == 0) or (anio % 4 == 0 and anio % 100 != 0):\n",
    "        return f\"✅ El año {anio} es bisiesto.\"\n",
    "    else:\n",
    "        return f\"❌ El año {anio} NO es bisiesto.\"\n",
    "\n",
    "# 🔹 Probar la función con tres valores\n",
    "print(es_bisiesto(2024))  # Bisiesto (cumple la condición b)\n",
    "print(es_bisiesto(1900))  # No es bisiesto (divisible por 100 pero no por 400)\n",
    "print(es_bisiesto(2000))  # Bisiesto (cumple la condición a)\n"
   ]
  },
  {
   "cell_type": "markdown",
   "metadata": {
    "collapsed": true,
    "id": "P3a7bJkd-c9w",
    "jupyter": {
     "outputs_hidden": true
    }
   },
   "source": [
    "#### Ejercicio 6 \n",
    "Pongamos en práctica identificar el type() de cada variable. A continuación tenemos una lista con elementos de diferentes tipos. Construyan un for loop que itere sobre la lista e imprima un cartel indicando el tipo de dato u objeto que hay en cada caso."
   ]
  },
  {
   "cell_type": "code",
   "execution_count": 21,
   "metadata": {
    "id": "jDf4d_Wr-c9w"
   },
   "outputs": [],
   "source": [
    "mi_lista = [10, 34.5, 99999, 'abc', [1,2,3], ('ARG', 1810), {'pob': 45}, True]"
   ]
  },
  {
   "cell_type": "code",
   "execution_count": 23,
   "metadata": {
    "id": "SAJgEiNEFQAS"
   },
   "outputs": [
    {
     "name": "stdout",
     "output_type": "stream",
     "text": [
      "🔹 El elemento 10 es de tipo int\n",
      "🔹 El elemento 34.5 es de tipo float\n",
      "🔹 El elemento 99999 es de tipo int\n",
      "🔹 El elemento abc es de tipo str\n",
      "🔹 El elemento [1, 2, 3] es de tipo list\n",
      "🔹 El elemento ('ARG', 1810) es de tipo tuple\n",
      "🔹 El elemento {'pob': 45} es de tipo dict\n",
      "🔹 El elemento True es de tipo bool\n"
     ]
    }
   ],
   "source": [
    "# Resolver acá# Lista con diferentes tipos de datos\n",
    "mi_lista = [10, 34.5, 99999, 'abc', [1,2,3], ('ARG', 1810), {'pob': 45}, True]\n",
    "\n",
    "# Iterar sobre la lista e imprimir el tipo de dato de cada elemento\n",
    "for elemento in mi_lista:\n",
    "    print(f\"🔹 El elemento {elemento} es de tipo {type(elemento).__name__}\")\n"
   ]
  },
  {
   "cell_type": "markdown",
   "metadata": {
    "id": "y1lncitl-c9x"
   },
   "source": [
    "#### Ejercicio 7\n",
    "Ahora definan ustedes una nueva lista, en la que los primeros cuatro elementos sean palabras (strings), el quinto elemento no sea string, y el sexto sea string. Construyan un for loop que corra por la lista y que imprima la palabra y la longitud de la misma. Que el loop contenga una sentencia condicional que imprima un cartel \"Elemento no es un string: < el elemento > | < class del elemento >\" para los casos dónde el elemento evaluado no sea string."
   ]
  },
  {
   "cell_type": "code",
   "execution_count": 25,
   "metadata": {
    "id": "bFOk9Os0-c9x"
   },
   "outputs": [
    {
     "name": "stdout",
     "output_type": "stream",
     "text": [
      "🔹 La palabra 'manzana' tiene 7 caracteres.\n",
      "🔹 La palabra 'elefante' tiene 8 caracteres.\n",
      "🔹 La palabra 'computadora' tiene 11 caracteres.\n",
      "🔹 La palabra 'python' tiene 6 caracteres.\n",
      "❌ Elemento no es un string: 42 | Tipo: int\n",
      "🔹 La palabra 'universo' tiene 8 caracteres.\n"
     ]
    }
   ],
   "source": [
    "# Resolver acá\n",
    "# Definir una lista con los primeros 4 elementos como strings, el quinto no string y el sexto string\n",
    "mi_lista = [\"manzana\", \"elefante\", \"computadora\", \"python\", 42, \"universo\"]\n",
    "\n",
    "# Recorrer la lista e imprimir la palabra y su longitud si es string\n",
    "for elemento in mi_lista:\n",
    "    if isinstance(elemento, str):  # Verifica si el elemento es un string\n",
    "        print(f\"🔹 La palabra '{elemento}' tiene {len(elemento)} caracteres.\")\n",
    "    else:\n",
    "        print(f\"❌ Elemento no es un string: {elemento} | Tipo: {type(elemento).__name__}\")\n"
   ]
  },
  {
   "cell_type": "markdown",
   "metadata": {},
   "source": [
    "#### Ejercicio 8"
   ]
  },
  {
   "cell_type": "markdown",
   "metadata": {},
   "source": [
    "Construyan una función llamada 'suma' que tome una cantidad variable de parámetros y devuelva el resultado de la suma."
   ]
  },
  {
   "cell_type": "code",
   "execution_count": 27,
   "metadata": {},
   "outputs": [
    {
     "name": "stdout",
     "output_type": "stream",
     "text": [
      "6\n",
      "100\n",
      "0\n"
     ]
    }
   ],
   "source": [
    "def suma(*numeros):\n",
    "    return sum(numeros)  # Utiliza la función sum() para sumar todos los valores\n",
    "\n",
    "# Pruebas de la función\n",
    "print(suma(1, 2, 3))        # Salida: 6\n",
    "print(suma(10, 20, 30, 40)) # Salida: 100\n",
    "print(suma())               # Salida: 0 (caso sin parámetros)\n",
    "# Resolver acá"
   ]
  },
  {
   "cell_type": "markdown",
   "metadata": {
    "id": "PUpxDz72-c9x"
   },
   "source": [
    "#### Ejercicio 9\n",
    "Argentina tiene una representación legislativa proporcional en la cual la cantidad de diputados se debería ajustar según el tamaño de población de cada provincia. Otra característica de la representación legislativa del país es que hay una cantidad mínima de diputados por provincia (5). Esto genera un desbalance en la cantidad de ciudadanos por cada representante en el Congreso entre provincias.\n",
    "\n",
    "A continuación preparamos algunos ejemplos, dividiendo la población de cada provincia (según estimación para el 2022) por la cantidad de representantes en el Congreso para esa misma jurisdicción. También armamos el equivalente para el total país y una lista con los valores provinciales.\n",
    "\n",
    "En este ejercicio les pedimos que construyan un for loop que itere sobre el diccionario definido y compare cada valor provincial contra el valor de proporcionalidad directa (la variable argentina). El loop debe imprimir una leyenda que indique si la provincia está sobrerepresentada, subrepresentada o con representación proporcional. Además, queremos que el mismo loop compare los valores de las provincias sobrerepresentadas y que guarde el valor de la provincia con mayor sobrerepresentación. Luego del loop impriman este valor así podemos ver que haya funcionado.\n",
    "\n",
    "Fuente para población: https://es.wikipedia.org/wiki/Demograf%C3%ADa_de_Argentina\n",
    "\n",
    "Fuente para representantes: https://es.wikipedia.org/wiki/C%C3%A1mara_de_Diputados_de_la_Naci%C3%B3n_Argentina"
   ]
  },
  {
   "cell_type": "code",
   "execution_count": null,
   "metadata": {
    "id": "hd8Z5AHs-c9y"
   },
   "outputs": [],
   "source": [
    "# Valor de referencia: proporcionalidad\n",
    "argentina = 46044703 / 257\n",
    "\n",
    "# Creamos variables para una selección de jurisdicciones\n",
    "cordoba = 3978984 / 18\n",
    "santa_fe = 3556522 / 19\n",
    "mendoza = 2014533 / 10\n",
    "buenos_aires = 17569053 / 70\n",
    "entre_rios =  1426426 / 9\n",
    "santa_cruz = 333473 / 5\n",
    "formosa = 606041 / 5\n",
    "\n",
    "# Definimos el diccionario para iterar\n",
    "dict_provincias = {\n",
    "    \"Córdoba\": cordoba,\n",
    "    \"Santa Fe\": santa_fe,\n",
    "    \"Mendoza\": mendoza,\n",
    "    \"Buenos Aires\": buenos_aires,\n",
    "    \"Entre Ríos\": entre_rios,\n",
    "    \"Santa Cruz\": santa_cruz,\n",
    "    \"Formosa\": formosa\n",
    "}"
   ]
  },
  {
   "cell_type": "code",
   "execution_count": 29,
   "metadata": {
    "id": "fsEHnxiY-c9y",
    "scrolled": true
   },
   "outputs": [
    {
     "name": "stdout",
     "output_type": "stream",
     "text": [
      "📌 Córdoba está SUBREPRESENTADA: 221055 ciudadanos/diputado\n",
      "📌 Santa Fe está SUBREPRESENTADA: 187185 ciudadanos/diputado\n",
      "📌 Mendoza está SUBREPRESENTADA: 201453 ciudadanos/diputado\n",
      "📌 Buenos Aires está SUBREPRESENTADA: 250986 ciudadanos/diputado\n",
      "✅ Entre Ríos está SOBREREPRESENTADA: 158492 ciudadanos/diputado\n",
      "✅ Santa Cruz está SOBREREPRESENTADA: 66695 ciudadanos/diputado\n",
      "✅ Formosa está SOBREREPRESENTADA: 121208 ciudadanos/diputado\n",
      "\n",
      "🏆 Provincia con mayor sobrerepresentación:\n",
      "🔹 Santa Cruz (66695 ciudadanos/diputado)\n"
     ]
    }
   ],
   "source": [
    "# Resolver acá\n",
    "# Valor de referencia: proporcionalidad directa en Argentina\n",
    "argentina = 46044703 / 257  # Ciudadanos por diputado en el país\n",
    "\n",
    "# Población por diputado en cada provincia\n",
    "cordoba = 3978984 / 18\n",
    "santa_fe = 3556522 / 19\n",
    "mendoza = 2014533 / 10\n",
    "buenos_aires = 17569053 / 70\n",
    "entre_rios = 1426426 / 9\n",
    "santa_cruz = 333473 / 5\n",
    "formosa = 606041 / 5\n",
    "\n",
    "# Diccionario con los valores provinciales\n",
    "dict_provincias = {\n",
    "    \"Córdoba\": cordoba,\n",
    "    \"Santa Fe\": santa_fe,\n",
    "    \"Mendoza\": mendoza,\n",
    "    \"Buenos Aires\": buenos_aires,\n",
    "    \"Entre Ríos\": entre_rios,\n",
    "    \"Santa Cruz\": santa_cruz,\n",
    "    \"Formosa\": formosa\n",
    "}\n",
    "\n",
    "# Variable para rastrear la provincia con mayor sobrerepresentación\n",
    "provincia_max_sobrerep = None\n",
    "valor_max_sobrerep = float('inf')  # Inicializamos con un valor muy alto\n",
    "\n",
    "# Iteramos sobre el diccionario\n",
    "for provincia, valor in dict_provincias.items():\n",
    "    if valor > argentina:\n",
    "        print(f\"📌 {provincia} está SUBREPRESENTADA: {valor:.0f} ciudadanos/diputado\")\n",
    "    elif valor < argentina:\n",
    "        print(f\"✅ {provincia} está SOBREREPRESENTADA: {valor:.0f} ciudadanos/diputado\")\n",
    "        # Verificamos si es la provincia más sobrerepresentada\n",
    "        if valor < valor_max_sobrerep:\n",
    "            valor_max_sobrerep = valor\n",
    "            provincia_max_sobrerep = provincia\n",
    "    else:\n",
    "        print(f\"⚖️ {provincia} tiene REPRESENTACIÓN PROPORCIONAL: {valor:.0f} ciudadanos/diputado\")\n",
    "\n",
    "# Imprimimos la provincia con mayor sobrerepresentación\n",
    "print(\"\\n🏆 Provincia con mayor sobrerepresentación:\")\n",
    "print(f\"🔹 {provincia_max_sobrerep} ({valor_max_sobrerep:.0f} ciudadanos/diputado)\")"
   ]
  },
  {
   "cell_type": "markdown",
   "metadata": {
    "id": "GokZe5tV-c9z"
   },
   "source": [
    "#### Ejercicio 10\n",
    "Si buscáramos minimizar la subrepresentación de la provincia de Buenos Aires, ¿cuántos representantes debería tener según el Censo 2022? Usemos el mismo criterio de sub/sobrerepresentacion que en el ejercicio anterior: población sobre cantidad de representantes.\n",
    "\n",
    "Para responder esta pregunta construyan un while loop que incremente de a uno la cantidad de representantes de la Provincia hasta minimizar la subrepresentación. En cada iteración impriman un cartel que diga: \"Se agregó un representante, el total ahora es X\" dónde X es el número de representantes simulado."
   ]
  },
  {
   "cell_type": "code",
   "execution_count": null,
   "metadata": {
    "id": "x9DvuXa_-c9z"
   },
   "outputs": [],
   "source": [
    "# Estos son los valores de la provincia\n",
    "representantes_pba = 70\n",
    "poblacion2010_pba = 17594428\n",
    "\n",
    "\n",
    "# Y el valor de referencia nacional\n",
    "argentina = 46044703 / 257\n"
   ]
  },
  {
   "cell_type": "code",
   "execution_count": 31,
   "metadata": {},
   "outputs": [
    {
     "name": "stdout",
     "output_type": "stream",
     "text": [
      "Se agregó un representante, el total ahora es 71\n",
      "Se agregó un representante, el total ahora es 72\n",
      "Se agregó un representante, el total ahora es 73\n",
      "Se agregó un representante, el total ahora es 74\n",
      "Se agregó un representante, el total ahora es 75\n",
      "Se agregó un representante, el total ahora es 76\n",
      "Se agregó un representante, el total ahora es 77\n",
      "Se agregó un representante, el total ahora es 78\n",
      "Se agregó un representante, el total ahora es 79\n",
      "Se agregó un representante, el total ahora es 80\n",
      "Se agregó un representante, el total ahora es 81\n",
      "Se agregó un representante, el total ahora es 82\n",
      "Se agregó un representante, el total ahora es 83\n",
      "Se agregó un representante, el total ahora es 84\n",
      "Se agregó un representante, el total ahora es 85\n",
      "Se agregó un representante, el total ahora es 86\n",
      "Se agregó un representante, el total ahora es 87\n",
      "Se agregó un representante, el total ahora es 88\n",
      "Se agregó un representante, el total ahora es 89\n",
      "Se agregó un representante, el total ahora es 90\n",
      "Se agregó un representante, el total ahora es 91\n",
      "Se agregó un representante, el total ahora es 92\n",
      "Se agregó un representante, el total ahora es 93\n",
      "Se agregó un representante, el total ahora es 94\n",
      "Se agregó un representante, el total ahora es 95\n",
      "Se agregó un representante, el total ahora es 96\n",
      "Se agregó un representante, el total ahora es 97\n",
      "Se agregó un representante, el total ahora es 98\n",
      "Se agregó un representante, el total ahora es 99\n",
      "\n",
      "🔹 Representación corregida para Buenos Aires:\n",
      "👉 Con 99 diputados, la provincia tiene 177721 ciudadanos/diputado, similar a la media nacional.\n"
     ]
    }
   ],
   "source": [
    "# Resolver acá\n",
    "\n",
    "# Datos de referencia\n",
    "representantes_pba = 70  # Diputados actuales en la Provincia de Buenos Aires\n",
    "poblacion2010_pba = 17594428  # Población de Buenos Aires según el Censo 2010\n",
    "argentina = 46044703 / 257  # Proporcionalidad ideal de ciudadanos por diputado a nivel nacional\n",
    "\n",
    "# Calculamos la representación actual\n",
    "ciudadanos_por_diputado = poblacion2010_pba / representantes_pba\n",
    "\n",
    "# Loop para aumentar la cantidad de representantes\n",
    "while ciudadanos_por_diputado > argentina:\n",
    "    representantes_pba += 1  # Agregamos un diputado\n",
    "    ciudadanos_por_diputado = poblacion2010_pba / representantes_pba  # Recalculamos\n",
    "    print(f\"Se agregó un representante, el total ahora es {representantes_pba}\")\n",
    "\n",
    "# Resultado final\n",
    "print(\"\\n🔹 Representación corregida para Buenos Aires:\")\n",
    "print(f\"👉 Con {representantes_pba} diputados, la provincia tiene {ciudadanos_por_diputado:.0f} ciudadanos/diputado, similar a la media nacional.\")\n",
    "\n"
   ]
  },
  {
   "cell_type": "code",
   "execution_count": null,
   "metadata": {},
   "outputs": [],
   "source": []
  }
 ],
 "metadata": {
  "anaconda-cloud": {},
  "colab": {
   "name": "TP1 - Parte 1.ipynb",
   "provenance": []
  },
  "kernelspec": {
   "display_name": "Python [conda env:base] *",
   "language": "python",
   "name": "conda-base-py"
  },
  "language_info": {
   "codemirror_mode": {
    "name": "ipython",
    "version": 3
   },
   "file_extension": ".py",
   "mimetype": "text/x-python",
   "name": "python",
   "nbconvert_exporter": "python",
   "pygments_lexer": "ipython3",
   "version": "3.12.7"
  }
 },
 "nbformat": 4,
 "nbformat_minor": 4
}
